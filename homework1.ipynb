{
 "cells": [
  {
   "cell_type": "markdown",
   "metadata": {},
   "source": [
    "# 基本程序设计\n",
    "- 一切代码输入，请使用英文输入法"
   ]
  },
  {
   "cell_type": "code",
   "execution_count": 7,
   "metadata": {},
   "outputs": [
    {
     "name": "stdout",
     "output_type": "stream",
     "text": [
      "hello word\n"
     ]
    }
   ],
   "source": [
    "print('hello word')"
   ]
  },
  {
   "cell_type": "markdown",
   "metadata": {},
   "source": [
    "## 编写一个简单的程序\n",
    "- 圆公式面积： area = radius \\* radius \\* 3.1415"
   ]
  },
  {
   "cell_type": "markdown",
   "metadata": {},
   "source": [
    "### 在Python里面不需要定义数据的类型"
   ]
  },
  {
   "cell_type": "markdown",
   "metadata": {},
   "source": [
    "## 控制台的读取与输入\n",
    "- input 输入进去的是字符串，返回的也是字符串\n",
    "- eval将输入的字符串转换成相关的类型如字符型100.0会转换成浮点型100.0"
   ]
  },
  {
   "cell_type": "code",
   "execution_count": 17,
   "metadata": {},
   "outputs": [
    {
     "name": "stdout",
     "output_type": "stream",
     "text": [
      "请输入正方形的边长：5\n",
      "25\n"
     ]
    }
   ],
   "source": [
    "bian = int(input('请输入正方形的边长：'))\n",
    "area = bian * bian\n",
    "print(area)"
   ]
  },
  {
   "cell_type": "markdown",
   "metadata": {},
   "source": [
    "- 在jupyter用shift + tab 键可以跳出解释文档"
   ]
  },
  {
   "cell_type": "markdown",
   "metadata": {},
   "source": [
    "## 变量命名的规范\n",
    "- 由字母、数字、下划线构成\n",
    "- 不能以数字开头 \\*\n",
    "- 标识符不能是关键词(实际上是可以强制改变的，但是对于代码规范而言是极其不适合)\n",
    "- 可以是任意长度\n",
    "- 驼峰式命名"
   ]
  },
  {
   "cell_type": "markdown",
   "metadata": {},
   "source": [
    "## 变量、赋值语句和赋值表达式\n",
    "- 变量: 通俗理解为可以变化的量\n",
    "- x = 2 \\* x + 1 在数学中是一个方程，而在语言中它是一个表达式\n",
    "- test = test + 1 \\* 变量在赋值之前必须有值"
   ]
  },
  {
   "cell_type": "markdown",
   "metadata": {},
   "source": [
    "## 同时赋值\n",
    "var1, var2,var3... = exp1,exp2,exp3..."
   ]
  },
  {
   "cell_type": "markdown",
   "metadata": {},
   "source": [
    "## 定义常量\n",
    "- 常量：表示一种定值标识符，适合于多次使用的场景。比如PI\n",
    "- 注意：在其他低级语言中如果定义了常量，那么，该常量是不可以被改变的，但是在Python中一切皆对象，常量也是可以被改变的"
   ]
  },
  {
   "cell_type": "markdown",
   "metadata": {},
   "source": [
    "## 数值数据类型和运算符\n",
    "- 在Python中有两种数值类型（int 和 float）适用于加减乘除、模、幂次\n",
    "<img src = \"../Photo/01.jpg\"></img>"
   ]
  },
  {
   "cell_type": "markdown",
   "metadata": {},
   "source": [
    "## 运算符 /（除）、//（整除）、**（幂次）"
   ]
  },
  {
   "cell_type": "markdown",
   "metadata": {},
   "source": [
    "## 运算符 %（取模）"
   ]
  },
  {
   "cell_type": "code",
   "execution_count": 30,
   "metadata": {},
   "outputs": [
    {
     "name": "stdout",
     "output_type": "stream",
     "text": [
      "输入秒500\n",
      "8 20\n"
     ]
    }
   ],
   "source": [
    "chu = 25/4\n",
    "zhengchu = 25//4\n",
    "print (chu,zhengchu)"
   ]
  },
  {
   "cell_type": "code",
   "execution_count": 2,
   "metadata": {},
   "outputs": [
    {
     "name": "stdout",
     "output_type": "stream",
     "text": [
      "输入秒500\n",
      "8分 20秒\n"
     ]
    }
   ],
   "source": [
    "miao = eval(input('输入秒'))\n",
    "fen = miao // 60\n",
    "miao = miao % 60\n",
    "print(str(fen) + '分',str(miao) + '秒')"
   ]
  },
  {
   "cell_type": "markdown",
   "metadata": {},
   "source": [
    "if (条件语句):\n",
    "    do something\n",
    "else\n",
    "    do something"
   ]
  },
  {
   "cell_type": "code",
   "execution_count": 35,
   "metadata": {
    "scrolled": true
   },
   "outputs": [
    {
     "name": "stdout",
     "output_type": "stream",
     "text": [
      "输入一个数12\n",
      "输入的数字12是一个偶数\n"
     ]
    }
   ],
   "source": [
    "##判断奇数和偶数\n",
    "shu = eval(input('输入一个数'))\n",
    "if shu % 2 == 0:\n",
    "    print('输入的数字'+str(shu)+'是一个偶数')\n",
    "else :\n",
    "    print('这是一个奇数')"
   ]
  },
  {
   "cell_type": "markdown",
   "metadata": {},
   "source": [
    "## EP：\n",
    "- 25/4 多少，如果要将其转变为整数该怎么改写\n",
    "- 输入一个数字判断是奇数还是偶数\n",
    "- 进阶: 输入一个秒数，写一个程序将其转换成分和秒：例如500秒等于8分20秒\n",
    "- 进阶: 如果今天是星期六，那么10天以后是星期几？ 提示：每个星期的第0天是星期天"
   ]
  },
  {
   "cell_type": "code",
   "execution_count": 14,
   "metadata": {},
   "outputs": [
    {
     "name": "stdout",
     "output_type": "stream",
     "text": [
      "今天是星期6\n",
      "星期6在十天之后是星期2\n"
     ]
    }
   ],
   "source": [
    "weekend=eval(input('今天是星期：'))\n",
    "res=(weekend+10)%7\n",
    "print('星期'+str(weekend)+'在十天之后是星期'+str(res)) \n"
   ]
  },
  {
   "cell_type": "markdown",
   "metadata": {},
   "source": [
    "## 科学计数法\n",
    "- 1.234e+2→1.234*10的二次方\n",
    "- 1.234e-2→1.234*10的负二次方"
   ]
  },
  {
   "cell_type": "markdown",
   "metadata": {},
   "source": [
    "## 计算表达式和运算优先级\n",
    "<img src = \"../Photo/02.png\"></img>\n",
    "<img src = \"../Photo/03.png\"></img>"
   ]
  },
  {
   "cell_type": "code",
   "execution_count": 8,
   "metadata": {},
   "outputs": [
    {
     "name": "stdout",
     "output_type": "stream",
     "text": [
      "one的值为8.6\n",
      "two的值为2.0\n",
      "three的值为32.099999999999994\n",
      "值为38.699999999999996\n"
     ]
    }
   ],
   "source": [
    "x=10\n",
    "y=6\n",
    "a=0\n",
    "b=1\n",
    "c=1\n",
    "one = (3 + 4 * x) / 5\n",
    "two = (10*(y-5)*(a+b+c))/x\n",
    "three = 9*((4/x)+(9+x)/y)\n",
    "abc = one - two + three\n",
    "print('one的值为' + str(one))\n",
    "print('two的值为' + str(two))\n",
    "print('three的值为' + str(three))\n",
    "print('值为' + str(abc))"
   ]
  },
  {
   "cell_type": "markdown",
   "metadata": {},
   "source": [
    "## 增强型赋值运算\n",
    "<img src = \"../Photo/04.png\"></img>"
   ]
  },
  {
   "cell_type": "markdown",
   "metadata": {},
   "source": [
    "## 类型转换\n",
    "- float  -> int\n",
    "- 四舍五入 round round(要四舍五入的值，要保留的位数)"
   ]
  },
  {
   "cell_type": "code",
   "execution_count": 12,
   "metadata": {},
   "outputs": [
    {
     "name": "stdout",
     "output_type": "stream",
     "text": [
      "11.853\n",
      "需要交的税为11.85\n"
     ]
    }
   ],
   "source": [
    "a = (197.55e+2) * (6e-4)\n",
    "b = round(a,2)\n",
    "print(str(a))\n",
    "print('需要交的税为' + str(round(a,2)))"
   ]
  },
  {
   "cell_type": "markdown",
   "metadata": {},
   "source": [
    "## EP:\n",
    "- 如果一个年营业税为0.06%，那么对于197.55e+2的年收入，需要交税为多少？(结果保留2为小数)\n",
    "- 必须使用科学计数法"
   ]
  },
  {
   "cell_type": "markdown",
   "metadata": {},
   "source": [
    "# Project\n",
    "- 用Python写一个贷款计算器程序：输入的是月供(monthlyPayment) 输出的是总还款数(totalpayment)\n",
    "![](../Photo/05.png)"
   ]
  },
  {
   "cell_type": "code",
   "execution_count": null,
   "metadata": {},
   "outputs": [],
   "source": []
  },
  {
   "cell_type": "markdown",
   "metadata": {},
   "source": [
    "# Homework\n",
    "- 1\n",
    "<img src=\"../Photo/06.png\"></img>"
   ]
  },
  {
   "cell_type": "code",
   "execution_count": 15,
   "metadata": {},
   "outputs": [
    {
     "name": "stdout",
     "output_type": "stream",
     "text": [
      "输入温度43\n",
      "43  celsius  is  109.4  Fathrenhei\n"
     ]
    }
   ],
   "source": [
    "celsius = eval(input('输入要转换的摄氏温度：'))\n",
    "fahrenheit = (9 / 5) * celsius + 32\n",
    "print(str(celsius) + ' celsius  is ' + str(fahrenheit) + '  Fathrenhei')"
   ]
  },
  {
   "cell_type": "markdown",
   "metadata": {},
   "source": [
    "- 2\n",
    "<img src=\"../Photo/07.png\"></img>"
   ]
  },
  {
   "cell_type": "code",
   "execution_count": 27,
   "metadata": {},
   "outputs": [
    {
     "name": "stdout",
     "output_type": "stream",
     "text": [
      "输入圆柱体的半径和高,中间用“，”隔开：5.5,12\n",
      "The area is 95.030375\n",
      "The valume is 1140.3645000000001\n"
     ]
    }
   ],
   "source": [
    "radius,length = eval(input('输入圆柱体的半径和高,中间用“，”隔开：'))\n",
    "area = radius ** 2 * 3.1415\n",
    "print('The area is ' + str(area))\n",
    "volume = area * length\n",
    "print('The valume is ' + str(volume))"
   ]
  },
  {
   "cell_type": "markdown",
   "metadata": {},
   "source": [
    "- 3\n",
    "<img src=\"../Photo/08.png\"></img>"
   ]
  },
  {
   "cell_type": "code",
   "execution_count": 31,
   "metadata": {},
   "outputs": [
    {
     "name": "stdout",
     "output_type": "stream",
     "text": [
      "Enter a value for feet：16.5\n",
      "16.5 feet is 5.0325 meters\n"
     ]
    }
   ],
   "source": [
    "feet = eval(input('Enter a value for feet：'))\n",
    "meters = 305e-3 * feet\n",
    "print(str(feet) + ' feet is ' + str(meters) + ' meters')"
   ]
  },
  {
   "cell_type": "markdown",
   "metadata": {},
   "source": [
    "- 4\n",
    "<img src=\"../Photo/10.png\"></img>"
   ]
  },
  {
   "cell_type": "code",
   "execution_count": 34,
   "metadata": {},
   "outputs": [
    {
     "name": "stdout",
     "output_type": "stream",
     "text": [
      "Enter the amount os water in kilograms:55.5\n",
      "Enter the initial temperature:3.5\n",
      "Enter the final temperature:10.5\n",
      "The energy needed is 1625484.0\n"
     ]
    }
   ],
   "source": [
    "M = eval(input('Enter the amount of water in kilograms:'))\n",
    "initialtemperature =  eval(input('Enter the initial temperature:'))\n",
    "finaltemperature =  eval(input('Enter the final temperature:'))\n",
    "Q = M * (finaltemperature - initialtemperature) * 4184\n",
    "print('The energy needed is ' + str(Q))"
   ]
  },
  {
   "cell_type": "markdown",
   "metadata": {},
   "source": [
    "- 5\n",
    "<img src=\"../Photo/11.png\"></img>"
   ]
  },
  {
   "cell_type": "code",
   "execution_count": 36,
   "metadata": {},
   "outputs": [
    {
     "name": "stdout",
     "output_type": "stream",
     "text": [
      "Enter balance and interest rate (e.g.,3 for 3%):1000,3.5\n",
      "The interest is 2.91667\n"
     ]
    }
   ],
   "source": [
    "chae,nianli = eval(input('Enter balance and interest rate (e.g.,3 for 3%):'))\n",
    "lixi = chae * (nianli/1200)\n",
    "print('The interest is ' + str(round(lixi,5)))"
   ]
  },
  {
   "cell_type": "markdown",
   "metadata": {},
   "source": [
    "- 6\n",
    "<img src=\"../Photo/12.png\"></img>"
   ]
  },
  {
   "cell_type": "code",
   "execution_count": 41,
   "metadata": {},
   "outputs": [
    {
     "name": "stdout",
     "output_type": "stream",
     "text": [
      "Enter v0,v1,and t:5.5,50.9,4.5\n",
      "The average acceleration is 10.0889\n"
     ]
    }
   ],
   "source": [
    "v0,v1,t = eval(input('Enter v0,v1,and t:'))\n",
    "a = (v1 - v0) / t\n",
    "print('The average acceleration is ' + str(round(a,4)))"
   ]
  },
  {
   "cell_type": "markdown",
   "metadata": {},
   "source": [
    "- 7 进阶\n",
    "<img src=\"../Photo/13.png\"></img>"
   ]
  },
  {
   "cell_type": "code",
   "execution_count": 57,
   "metadata": {},
   "outputs": [
    {
     "name": "stdout",
     "output_type": "stream",
     "text": [
      "Enter the monthly saving amount: 100\n",
      "After the sixth month,the account value is  608.81\n"
     ]
    }
   ],
   "source": [
    "money = eval(input('Enter the monthly saving amount: '))\n",
    "yueli = 0.05 / 12\n",
    "sum = 0\n",
    "i = 0\n",
    "for num in range (0,6):\n",
    "    sum = (money + sum) * (1 + yueli)\n",
    "    i += 1\n",
    "#     i = i+1\n",
    "print('After the sixth month,the account value is  '+str(round(sum,2)))\n",
    "# # sum1 = 100 * (1 + yueli)\n",
    "# # sum2 = (100 + sum1) * (1 + yueli)\n",
    "# # sum3 = (100 + sum2) * (1 + yueli)\n",
    "# # sum4 = (100 + sum3) * (1 + yueli)\n",
    "# # sum5 = (100 + sum4) * (1 + yueli)\n",
    "# # sum6 = (100 + sum5) * (1 + yueli)\n",
    "# # print('After the sixth month,the account value is ' + str(round(sum6,2))) "
   ]
  },
  {
   "cell_type": "markdown",
   "metadata": {},
   "source": [
    "- 8 进阶\n",
    "<img src=\"../Photo/14.png\"></img>"
   ]
  },
  {
   "cell_type": "code",
   "execution_count": 56,
   "metadata": {},
   "outputs": [
    {
     "name": "stdout",
     "output_type": "stream",
     "text": [
      "Enter a number between 0 and 1000: 256\n",
      "13\n"
     ]
    }
   ],
   "source": [
    "number = eval(input('Enter a number between 0 and 1000: '))\n",
    "# if number >= 0 & number < 1000:\n",
    "#     i = number % 10\n",
    "#     j = (number // 10) % 10\n",
    "#     k = number // 100\n",
    "#     sum = i + j + k\n",
    "#     print('The sum of the digits is ' + str(sum))\n",
    "sum = 0\n",
    "while number > 0:\n",
    "    sum += number % 10\n",
    "    number =number // 10\n",
    "    \n",
    "print('The sum of the digits is ' + str(sum)"
   ]
  },
  {
   "cell_type": "code",
   "execution_count": null,
   "metadata": {},
   "outputs": [],
   "source": []
  }
 ],
 "metadata": {
  "kernelspec": {
   "display_name": "Python 3",
   "language": "python",
   "name": "python3"
  },
  "language_info": {
   "codemirror_mode": {
    "name": "ipython",
    "version": 3
   },
   "file_extension": ".py",
   "mimetype": "text/x-python",
   "name": "python",
   "nbconvert_exporter": "python",
   "pygments_lexer": "ipython3",
   "version": "3.6.4"
  }
 },
 "nbformat": 4,
 "nbformat_minor": 2
}
